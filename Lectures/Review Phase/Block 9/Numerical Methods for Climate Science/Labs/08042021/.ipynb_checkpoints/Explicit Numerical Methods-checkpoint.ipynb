{
 "cells": [
  {
   "cell_type": "code",
   "execution_count": 1,
   "metadata": {},
   "outputs": [],
   "source": [
    "import numpy as np\n",
    "import matplotlib.pyplot as plt"
   ]
  },
  {
   "cell_type": "markdown",
   "metadata": {},
   "source": [
    "### Exercise 1"
   ]
  },
  {
   "cell_type": "code",
   "execution_count": 2,
   "metadata": {},
   "outputs": [],
   "source": [
    "def uniform(a,b,N):\n",
    "    deltax  =  (b -a)/N\n",
    "    return deltax"
   ]
  },
  {
   "cell_type": "code",
   "execution_count": 3,
   "metadata": {},
   "outputs": [],
   "source": [
    "a = -1\n",
    "b = 1\n",
    "N =100\n",
    "x  =  np.linspace(a,b,N)\n",
    "\n",
    "def f1(x):\n",
    "    return (1 -  x)/np.sqrt(1 + x**2)"
   ]
  },
  {
   "cell_type": "code",
   "execution_count": 9,
   "metadata": {},
   "outputs": [
    {
     "data": {
      "text/plain": [
       "[<matplotlib.lines.Line2D at 0x7f49d5302c50>]"
      ]
     },
     "execution_count": 9,
     "metadata": {},
     "output_type": "execute_result"
    },
    {
     "data": {
      "image/png": "[encoded data removed]",
      "text/plain": [
       "<Figure size 432x288 with 1 Axes>"
      ]
     },
     "metadata": {
      "needs_background": "light"
     },
     "output_type": "display_data"
    }
   ],
   "source": [
    "# plt.plot()\n",
    "y  =  f1(x)\n",
    "plt.plot(x,y)"
   ]
  },
  {
   "cell_type": "code",
   "execution_count": 34,
   "metadata": {},
   "outputs": [],
   "source": [
    "def f2(x):\n",
    "    return np.where( np.abs(x) <= 1, 1-x**2,0)"
   ]
  },
  {
   "cell_type": "code",
   "execution_count": 36,
   "metadata": {},
   "outputs": [
    {
     "data": {
      "text/plain": [
       "[<matplotlib.lines.Line2D at 0x7f49d4c6a630>]"
      ]
     },
     "execution_count": 36,
     "metadata": {},
     "output_type": "execute_result"
    },
    {
     "data": {
      "image/png": "[encoded data removed]",
      "text/plain": [
       "<Figure size 432x288 with 1 Axes>"
      ]
     },
     "metadata": {
      "needs_background": "light"
     },
     "output_type": "display_data"
    }
   ],
   "source": [
    "x  =  np.linspace(-2,2,N)\n",
    "\n",
    "plt.plot(x,f2(x))"
   ]
  },
  {
   "cell_type": "code",
   "execution_count": 16,
   "metadata": {},
   "outputs": [],
   "source": [
    "def f3(x):\n",
    "    return 0"
   ]
  },
  {
   "cell_type": "code",
   "execution_count": 25,
   "metadata": {
    "scrolled": true
   },
   "outputs": [
    {
     "data": {
      "text/plain": [
       "[<matplotlib.lines.Line2D at 0x7f49d4dd8b00>]"
      ]
     },
     "execution_count": 25,
     "metadata": {},
     "output_type": "execute_result"
    },
    {
     "data": {
      "image/png": "[encoded data removed]",
      "text/plain": [
       "<Figure size 432x288 with 1 Axes>"
      ]
     },
     "metadata": {
      "needs_background": "light"
     },
     "output_type": "display_data"
    }
   ],
   "source": [
    "f3 =  np.vectorize(f3)\n",
    "plt.plot(x,f3(x))"
   ]
  },
  {
   "cell_type": "markdown",
   "metadata": {},
   "source": [
    "### Exercise 2"
   ]
  },
  {
   "cell_type": "code",
   "execution_count": 40,
   "metadata": {},
   "outputs": [
    {
     "data": {
      "text/plain": [
       "36"
      ]
     },
     "execution_count": 40,
     "metadata": {},
     "output_type": "execute_result"
    }
   ],
   "source": [
    "a,b = 0,500\n",
    "T_0  =  300\n",
    "\n",
    "deltat =  14\n",
    "t  =  np.arange(a,b+1,deltat)"
   ]
  },
  {
   "cell_type": "code",
   "execution_count": 41,
   "metadata": {},
   "outputs": [],
   "source": [
    "def model(t,T):\n",
    "    C =  85\n",
    "    alpha  =  0.3\n",
    "    S_0 =  1367\n",
    "    epsilon = 0.6\n",
    "    delta =  5.67 * 10**-8\n",
    "    dTdt =  ((1 -  alpha) * S_0 )/(4 * C)   -  (epsilon * delta * T**4)/C\n",
    "    return dTdt"
   ]
  },
  {
   "cell_type": "code",
   "execution_count": 54,
   "metadata": {},
   "outputs": [],
   "source": [
    "def Euler(t,deltat,T_0,model):\n",
    "    T =  np.zeros(len(t))\n",
    "    T[0]  =  T_0\n",
    "    for n in range(len(T)-1):\n",
    "        T[n+1]  =  T[n]   +  deltat * model(t[n],T[n])\n",
    "    return T\n",
    "\n",
    "\n",
    "def MidPointMethod(t,deltat,T_0,model):\n",
    "    T =  np.zeros(len(t))\n",
    "    T[0]  =  T_0\n",
    "    for n in range(len(T)-1):\n",
    "        t_half  =  t[n] + 0.5 * t[n]\n",
    "        T_half  = T[n] + 0.5 * deltat * model(t_half, T[n])\n",
    "        T[n+1]  =  T[n]   +  deltat * model(t_half,T_half)\n",
    "    return T\n",
    "\n",
    "def RK4(t,deltat,T_0,model):\n",
    "    T =  np.zeros(len(t))\n",
    "    T[0]  =  T_0\n",
    "    for n in range(len(T)-1):\n",
    "        k1  =  model(t[n],T[n])\n",
    "        t_half  =  t[n] + 0.5 * t[n]\n",
    "        k2  =  model(t_half, T[n] + (0.5 * deltat) * k1   )\n",
    "        k3  =  model( t_half  ,   T[n] + (0.5 * deltat) * k2   )\n",
    "        t[n+1] =  t[n]  + deltat\n",
    "        k4  =  model(t[n+1],  T[n] + deltat * k3)\n",
    "        T[n+1]  =  T[n]   +  (deltat/6) * ( k1 + 2*k2 + 2*k3 + k4)\n",
    "    return T"
   ]
  },
  {
   "cell_type": "code",
   "execution_count": 55,
   "metadata": {},
   "outputs": [
    {
     "data": {
      "text/plain": [
       "<matplotlib.legend.Legend at 0x7f49d4a39e10>"
      ]
     },
     "execution_count": 55,
     "metadata": {},
     "output_type": "execute_result"
    },
    {
     "data": {
      "image/png": "[encoded data removed]",
      "text/plain": [
       "<Figure size 432x288 with 1 Axes>"
      ]
     },
     "metadata": {
      "needs_background": "light"
     },
     "output_type": "display_data"
    }
   ],
   "source": [
    "plt.plot(t,Euler(t,deltat,T_0,model),label=\"Euler\")\n",
    "plt.plot(t,MidPointMethod(t,deltat,T_0,model),label=\"Mid-Point\")\n",
    "plt.plot(t,RK4(t,deltat,T_0,model),label=\"RK4\")\n",
    "plt.legend()"
   ]
  },
  {
   "cell_type": "code",
   "execution_count": null,
   "metadata": {},
   "outputs": [],
   "source": []
  }
 ],
 "metadata": {
  "kernelspec": {
   "display_name": "Python 3",
   "language": "python",
   "name": "python3"
  },
  "language_info": {
   "codemirror_mode": {
    "name": "ipython",
    "version": 3
   },
   "file_extension": ".py",
   "mimetype": "text/x-python",
   "name": "python",
   "nbconvert_exporter": "python",
   "pygments_lexer": "ipython3",
   "version": "3.7.3"
  }
 },
 "nbformat": 4,
 "nbformat_minor": 2
}
