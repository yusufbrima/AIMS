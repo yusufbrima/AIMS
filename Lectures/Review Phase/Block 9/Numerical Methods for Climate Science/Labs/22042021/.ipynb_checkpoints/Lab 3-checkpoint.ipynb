{
 "cells": [
  {
   "cell_type": "code",
   "execution_count": 6,
   "metadata": {},
   "outputs": [],
   "source": [
    "import numpy as np\n",
    "import matplotlib.pyplot as plt"
   ]
  },
  {
   "cell_type": "code",
   "execution_count": 79,
   "metadata": {},
   "outputs": [],
   "source": [
    "def u_0(x):\n",
    "    return np.where(1-x**2> 0,1-x**2,0)\n",
    "\n",
    "# u_0 =  np.vectorize(u_0)\n",
    "\n",
    "dx = 0.05\n",
    "mu =  0.52\n",
    "a =  -10\n",
    "b =  10\n",
    "k = 1\n",
    "T = 1\n",
    "Nx =  np.int((b-a)/dx)\n",
    "Nt  = np.int((T-0)/dt)\n",
    "dt  = (mu*dx**2)/k\n",
    "x =  np.linspace(a,b,Nx+1)\n",
    "\n",
    "U =  np.zeros((Nt+1,Nx+1))\n",
    "U[0] = u_0(x)"
   ]
  },
  {
   "cell_type": "code",
   "execution_count": 80,
   "metadata": {},
   "outputs": [],
   "source": [
    "for t in range(Nt):\n",
    "    for j in range(1,Nx):\n",
    "        U[t+1,j] = U[t,j] + mu*(U[t,j-1] - 2* U[t,j]  + U[t,j+1]) "
   ]
  },
  {
   "cell_type": "code",
   "execution_count": 82,
   "metadata": {},
   "outputs": [
    {
     "data": {
      "image/png": "[encoded data removed]",
      "text/plain": [
       "<Figure size 432x288 with 1 Axes>"
      ]
     },
     "metadata": {
      "needs_background": "light"
     },
     "output_type": "display_data"
    }
   ],
   "source": [
    "\n",
    "for t in range(Nt):\n",
    "    plt.plot(x,U[t],color=\"blue\")\n",
    "\n",
    "plt.show()"
   ]
  },
  {
   "cell_type": "code",
   "execution_count": null,
   "metadata": {},
   "outputs": [],
   "source": []
  },
  {
   "cell_type": "code",
   "execution_count": null,
   "metadata": {},
   "outputs": [],
   "source": []
  },
  {
   "cell_type": "code",
   "execution_count": null,
   "metadata": {},
   "outputs": [],
   "source": []
  },
  {
   "cell_type": "code",
   "execution_count": null,
   "metadata": {},
   "outputs": [],
   "source": []
  }
 ],
 "metadata": {
  "kernelspec": {
   "display_name": "Python 3",
   "language": "python",
   "name": "python3"
  },
  "language_info": {
   "codemirror_mode": {
    "name": "ipython",
    "version": 3
   },
   "file_extension": ".py",
   "mimetype": "text/x-python",
   "name": "python",
   "nbconvert_exporter": "python",
   "pygments_lexer": "ipython3",
   "version": "3.7.3"
  }
 },
 "nbformat": 4,
 "nbformat_minor": 2
}
