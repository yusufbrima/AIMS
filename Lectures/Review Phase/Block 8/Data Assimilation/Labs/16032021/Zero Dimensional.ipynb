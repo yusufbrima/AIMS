{
 "cells": [
  {
   "cell_type": "code",
   "execution_count": 11,
   "metadata": {},
   "outputs": [],
   "source": [
    "%matplotlib inline\n",
    "import pylab"
   ]
  },
  {
   "cell_type": "code",
   "execution_count": 12,
   "metadata": {},
   "outputs": [],
   "source": [
    "S=1372\n",
    "alpha=0.3\n",
    "eps=0.61\n",
    "sigma=5.67e-8\n",
    "Cp=1.05e23\n",
    "dt=1e21\n",
    "T0=0\n",
    "const=dt/Cp\n",
    "const1=S*(1-alpha)*const;\n",
    "const2=4*eps*sigma*const"
   ]
  },
  {
   "cell_type": "code",
   "execution_count": 13,
   "metadata": {},
   "outputs": [],
   "source": [
    "Nstep=10\n",
    "T=np.zeros(Nstep)\n",
    "T[0]=0\n",
    "def mytemp(T,Nstep,const1,const2):\n",
    "    for k in range(Nstep-1):\n",
    "        T[k+1]=T[k]+const1-const2*T[k]**4;\n",
    "    return T\n",
    "    T=mytemp(T,Nstep,const1,const2)"
   ]
  },
  {
   "cell_type": "code",
   "execution_count": 14,
   "metadata": {},
   "outputs": [
    {
     "data": {
      "image/png": "[encoded data removed]",
      "text/plain": [
       "<Figure size 432x288 with 1 Axes>"
      ]
     },
     "metadata": {
      "needs_background": "light"
     },
     "output_type": "display_data"
    }
   ],
   "source": [
    "figure(1)\n",
    "clf()\n",
    "plot(T,color='r',markersize=1)\n",
    "xlabel('t',fontsize=16)\n",
    "ylabel('Mean Temperature', fontsize=16)\n",
    "show()"
   ]
  },
  {
   "cell_type": "code",
   "execution_count": null,
   "metadata": {},
   "outputs": [],
   "source": []
  }
 ],
 "metadata": {
  "kernelspec": {
   "display_name": "Python 3",
   "language": "python",
   "name": "python3"
  },
  "language_info": {
   "codemirror_mode": {
    "name": "ipython",
    "version": 3
   },
   "file_extension": ".py",
   "mimetype": "text/x-python",
   "name": "python",
   "nbconvert_exporter": "python",
   "pygments_lexer": "ipython3",
   "version": "3.7.6"
  }
 },
 "nbformat": 4,
 "nbformat_minor": 4
}
