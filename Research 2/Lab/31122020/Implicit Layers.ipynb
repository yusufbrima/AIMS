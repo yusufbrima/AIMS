{
 "cells": [
  {
   "cell_type": "code",
   "execution_count": 1,
   "metadata": {},
   "outputs": [],
   "source": [
    "import numpy as np"
   ]
  },
  {
   "cell_type": "code",
   "execution_count": 8,
   "metadata": {},
   "outputs": [],
   "source": [
    "def self_attention(K,Q,V):\n",
    "    A  = np.exp(K@Q.T)/np.sqrt(K.shape[1])\n",
    "    return (A  /  np.sum(A,1))@V"
   ]
  },
  {
   "cell_type": "code",
   "execution_count": 12,
   "metadata": {},
   "outputs": [
    {
     "name": "stdout",
     "output_type": "stream",
     "text": [
      "[[ 0.32316669 -3.67421136  1.4249636   1.96593528  1.21523354]\n",
      " [ 0.13181549 -0.56031142  0.21530786 -0.0342245   0.34551909]\n",
      " [ 0.70653685 -9.5905569  -1.65473757 -0.82303087  9.41329508]\n",
      " [ 0.12913985 -0.78164281  0.34005027  0.25071845  0.29910221]]\n"
     ]
    }
   ],
   "source": [
    "K,Q,V = np.random.randn(3,4,5)\n",
    "print(self_attention(K,Q,V))"
   ]
  },
  {
   "cell_type": "code",
   "execution_count": null,
   "metadata": {},
   "outputs": [],
   "source": []
  }
 ],
 "metadata": {
  "kernelspec": {
   "display_name": "Python 3",
   "language": "python",
   "name": "python3"
  },
  "language_info": {
   "codemirror_mode": {
    "name": "ipython",
    "version": 3
   },
   "file_extension": ".py",
   "mimetype": "text/x-python",
   "name": "python",
   "nbconvert_exporter": "python",
   "pygments_lexer": "ipython3",
   "version": "3.7.6"
  }
 },
 "nbformat": 4,
 "nbformat_minor": 4
}
