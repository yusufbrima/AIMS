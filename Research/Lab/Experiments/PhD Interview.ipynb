{
 "cells": [
  {
   "cell_type": "code",
   "execution_count": 54,
   "id": "24fc6c0d",
   "metadata": {},
   "outputs": [],
   "source": [
    "#Alorithm, smallest difference between two consecutive terms with opposite signs"
   ]
  },
  {
   "cell_type": "code",
   "execution_count": 63,
   "id": "c63e4a76",
   "metadata": {},
   "outputs": [
    {
     "ename": "IndexError",
     "evalue": "list index out of range",
     "output_type": "error",
     "traceback": [
      "\u001b[0;31m---------------------------------------------------------------------------\u001b[0m",
      "\u001b[0;31mIndexError\u001b[0m                                Traceback (most recent call last)",
      "\u001b[0;32m<ipython-input-63-c5415c45fd8d>\u001b[0m in \u001b[0;36m<module>\u001b[0;34m\u001b[0m\n\u001b[1;32m      1\u001b[0m \u001b[0ma\u001b[0m \u001b[0;34m=\u001b[0m \u001b[0mlist\u001b[0m\u001b[0;34m(\u001b[0m\u001b[0mnp\u001b[0m\u001b[0;34m.\u001b[0m\u001b[0mrandom\u001b[0m\u001b[0;34m.\u001b[0m\u001b[0mrandn\u001b[0m\u001b[0;34m(\u001b[0m\u001b[0;36m100\u001b[0m\u001b[0;34m,\u001b[0m\u001b[0;34m)\u001b[0m\u001b[0;34m*\u001b[0m \u001b[0;36m10\u001b[0m\u001b[0;34m)\u001b[0m\u001b[0;34m\u001b[0m\u001b[0;34m\u001b[0m\u001b[0m\n\u001b[1;32m      2\u001b[0m \u001b[0ma\u001b[0m\u001b[0;34m,\u001b[0m\u001b[0mb\u001b[0m\u001b[0;34m,\u001b[0m\u001b[0mid\u001b[0m\u001b[0;34m,\u001b[0m\u001b[0mnn\u001b[0m \u001b[0;34m=\u001b[0m \u001b[0mfsd\u001b[0m\u001b[0;34m(\u001b[0m\u001b[0ma\u001b[0m\u001b[0;34m)\u001b[0m\u001b[0;34m\u001b[0m\u001b[0;34m\u001b[0m\u001b[0m\n\u001b[0;32m----> 3\u001b[0;31m \u001b[0mprint\u001b[0m\u001b[0;34m(\u001b[0m\u001b[0mnums\u001b[0m\u001b[0;34m[\u001b[0m\u001b[0ma\u001b[0m\u001b[0;34m]\u001b[0m\u001b[0;34m,\u001b[0m\u001b[0mnums\u001b[0m\u001b[0;34m[\u001b[0m\u001b[0mb\u001b[0m\u001b[0;34m]\u001b[0m\u001b[0;34m)\u001b[0m\u001b[0;34m\u001b[0m\u001b[0;34m\u001b[0m\u001b[0m\n\u001b[0m",
      "\u001b[0;31mIndexError\u001b[0m: list index out of range"
     ]
    }
   ],
   "source": [
    "a = list(np.random.randn(100,)* 10)\n",
    "a,b,id,nn = fsd(a)\n",
    "print(nums[a],nums[b])"
   ]
  },
  {
   "cell_type": "code",
   "execution_count": 50,
   "id": "a2a04f30",
   "metadata": {},
   "outputs": [
    {
     "name": "stdout",
     "output_type": "stream",
     "text": [
      "-1.5 6\n"
     ]
    }
   ],
   "source": [
    "\n",
    "import numpy as np\n",
    "nums = [6, 3, -2.5, 3.3, 9, -1, -1.5, 6, 27, -12, 4]\n",
    "def fsd(nums):\n",
    "    diff = {'index': [], 'diff':[]}\n",
    "    for i in range(len(nums)-1):\n",
    "        if((nums[i] >=  0  and nums[i+1] < 0) or (nums[i] <=  0  and nums[i+1] > 0) ):\n",
    "            sub = abs(nums[i]) -  abs(nums[i+1])\n",
    "            diff['diff'].append(sub)\n",
    "            diff['index'].append(str(str(i) + '_' + str(i+1)))\n",
    "    if(len(diff['index']) == 0):\n",
    "        return print(\"No solution\")\n",
    "    else:\n",
    "        indx =  diff['index']\n",
    "        num =  np.argmin(np.array(diff['diff']))\n",
    "        a,b =  indx[num].split('_')[0],indx[num].split('_')[1]\n",
    "        return int(a),int(b),indx,np.array(diff['diff'])\n",
    "a,b,id,nn = fsd(nums)\n",
    "print(nums[a],nums[b])"
   ]
  }
 ],
 "metadata": {
  "kernelspec": {
   "display_name": "Python 3",
   "language": "python",
   "name": "python3"
  },
  "language_info": {
   "codemirror_mode": {
    "name": "ipython",
    "version": 3
   },
   "file_extension": ".py",
   "mimetype": "text/x-python",
   "name": "python",
   "nbconvert_exporter": "python",
   "pygments_lexer": "ipython3",
   "version": "3.9.4"
  }
 },
 "nbformat": 4,
 "nbformat_minor": 5
}
