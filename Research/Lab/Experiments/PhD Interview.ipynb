{
 "cells": [
  {
   "cell_type": "code",
   "execution_count": 54,
   "id": "4b5ff13c",
   "metadata": {},
   "outputs": [],
   "source": [
    "#Alorithm, smallest difference between two consecutive terms with opposite signs"
   ]
  },
  {
   "cell_type": "code",
   "execution_count": 70,
   "id": "007332a1",
   "metadata": {},
   "outputs": [
    {
     "name": "stdout",
     "output_type": "stream",
     "text": [
      "-1.5 6\n"
     ]
    }
   ],
   "source": [
    "\n",
    "import numpy as np\n",
    "nums = [6, 3, -2.5, 3.3, 9, -1, -1.5, 6, 27, -12, 4]\n",
    "def fsd(nums):\n",
    "    diff = {'index': [], 'diff':[]}\n",
    "    for i in range(len(nums)-1):\n",
    "        if((nums[i] >=  0  and nums[i+1] < 0) or (nums[i] <=  0  and nums[i+1] > 0) ):\n",
    "            sub = abs(nums[i]) -  abs(nums[i+1])\n",
    "            diff['diff'].append(sub)\n",
    "            diff['index'].append(str(str(i) + '_' + str(i+1)))\n",
    "    if(len(diff['index']) == 0):\n",
    "        return print(\"No solution\")\n",
    "    else:\n",
    "        indx =  diff['index']\n",
    "        num =  np.argmin(np.array(diff['diff']))\n",
    "        a,b =  indx[num].split('_')[0],indx[num].split('_')[1]\n",
    "        return int(a),int(b),indx,np.array(diff['diff'])\n",
    "a,b,id,nn = fsd(nums)\n",
    "print(nums[a],nums[b])"
   ]
  },
  {
   "cell_type": "code",
   "execution_count": null,
   "id": "fa842461",
   "metadata": {},
   "outputs": [],
   "source": []
  },
  {
   "cell_type": "code",
   "execution_count": null,
   "id": "6fdc8503",
   "metadata": {},
   "outputs": [],
   "source": []
  }
 ],
 "metadata": {
  "kernelspec": {
   "display_name": "Python 3",
   "language": "python",
   "name": "python3"
  },
  "language_info": {
   "codemirror_mode": {
    "name": "ipython",
    "version": 3
   },
   "file_extension": ".py",
   "mimetype": "text/x-python",
   "name": "python",
   "nbconvert_exporter": "python",
   "pygments_lexer": "ipython3",
   "version": "3.9.4"
  }
 },
 "nbformat": 4,
 "nbformat_minor": 5
}
