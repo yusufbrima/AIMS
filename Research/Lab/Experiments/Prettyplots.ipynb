{
 "cells": [
  {
   "cell_type": "code",
   "execution_count": null,
   "id": "b17f991b",
   "metadata": {},
   "outputs": [],
   "source": [
    "# import pickle\n",
    "import numpy \n",
    "# from matplotlib import pyplot as plt\n",
    "# import matplotlib as mpl\n",
    "\n",
    "# import numpy as np\n",
    "# from ipywidgets import interact\n",
    "# import ipywidgets as widgets\n",
    "\n",
    "# with open('test_data.pkl', 'rb') as f:\n",
    "#     plot_data = pickle.load(f)\n",
    "    \n",
    "# config = {}"
   ]
  },
  {
   "cell_type": "code",
   "execution_count": 2,
   "id": "c965de90",
   "metadata": {},
   "outputs": [
    {
     "name": "stdout",
     "output_type": "stream",
     "text": [
      "Collecting pickle-mixin\n",
      "  Downloading pickle-mixin-1.0.2.tar.gz (5.1 kB)\n",
      "Building wheels for collected packages: pickle-mixin\n",
      "  Building wheel for pickle-mixin (setup.py) ... \u001b[?25ldone\n",
      "\u001b[?25h  Created wheel for pickle-mixin: filename=pickle_mixin-1.0.2-py3-none-any.whl size=5998 sha256=c1d3146383147706c7c23edc0fade349da88333282345219f73a44d4ba031b94\n",
      "  Stored in directory: /Users/yusuf/Library/Caches/pip/wheels/58/c6/8b/061bd4edc8cea2b2235758c3e50473d08499236fbfdd21e6b3\n",
      "Successfully built pickle-mixin\n",
      "Installing collected packages: pickle-mixin\n",
      "Successfully installed pickle-mixin-1.0.2\n"
     ]
    }
   ],
   "source": [
    "!pip3 install pickle-mixin"
   ]
  },
  {
   "cell_type": "code",
   "execution_count": 1,
   "id": "99a0fc8d",
   "metadata": {},
   "outputs": [
    {
     "ename": "NameError",
     "evalue": "name 'interact' is not defined",
     "output_type": "error",
     "traceback": [
      "\u001b[0;31m------------------------------------------------------------------------\u001b[0m",
      "\u001b[0;31mNameError\u001b[0m                              Traceback (most recent call last)",
      "\u001b[0;32m<ipython-input-1-4b27ff5fd67e>\u001b[0m in \u001b[0;36m<module>\u001b[0;34m\u001b[0m\n\u001b[1;32m     49\u001b[0m \u001b[0;34m\u001b[0m\u001b[0m\n\u001b[1;32m     50\u001b[0m \u001b[0;34m\u001b[0m\u001b[0m\n\u001b[0;32m---> 51\u001b[0;31m interact(get_config,\n\u001b[0m\u001b[1;32m     52\u001b[0m          \u001b[0mplot_title\u001b[0m\u001b[0;34m=\u001b[0m\u001b[0;34m\"Performance curves\"\u001b[0m\u001b[0;34m,\u001b[0m\u001b[0;34m\u001b[0m\u001b[0;34m\u001b[0m\u001b[0m\n\u001b[1;32m     53\u001b[0m          \u001b[0mxlabel\u001b[0m\u001b[0;34m=\u001b[0m\u001b[0;34m'Update steps'\u001b[0m\u001b[0;34m,\u001b[0m\u001b[0;34m\u001b[0m\u001b[0;34m\u001b[0m\u001b[0m\n",
      "\u001b[0;31mNameError\u001b[0m: name 'interact' is not defined"
     ]
    }
   ],
   "source": [
    "def get_config(plot_title,\n",
    "               xlabel,\n",
    "               ylabel,\n",
    "               tick_fontsize=12,\n",
    "               label_fontsize=15,\n",
    "               legend_fontsize=15,\n",
    "               suptitle_fontsize=20,\n",
    "               colormap='Accent',\n",
    "               linewidth=3, \n",
    "               grid=False,\n",
    "               dpi=200,\n",
    "               figure_width=7,\n",
    "               figure_height=4,\n",
    "               shade_alpha=0.5,\n",
    "              ):\n",
    "    global config\n",
    "    config = {\n",
    "        \"figure.titlesize\": suptitle_fontsize,\n",
    "        \"figure.figsize\": (float(figure_width), float(figure_height)),\n",
    "        \"figure.dpi\": dpi,\n",
    "        \"xtick.labelsize\": tick_fontsize,\n",
    "        \"ytick.labelsize\": tick_fontsize,\n",
    "        \"lines.linewidth\": linewidth,\n",
    "        \"axes.labelsize\": label_fontsize,\n",
    "        \"legend.fontsize\": legend_fontsize,\n",
    "        \"axes.grid\": grid,\n",
    "        \"image.cmap\": colormap\n",
    "        \n",
    "    }\n",
    "    for k,v in config.items():\n",
    "        mpl.rcParams[k] = v\n",
    "    \n",
    "    cmap = mpl.cm.get_cmap(colormap)\n",
    "    n_curves = len(plot_data)\n",
    "    for ctr, (k,v) in enumerate(plot_data.items()):\n",
    "        mean = v\n",
    "        sem = np.random.random(size=len(mean))*10 + 50\n",
    "        if k == 'LSTM':\n",
    "            sem=0\n",
    "        ccolor = cmap(ctr/n_curves)\n",
    "        plt.plot(mean, label=k, linewidth=linewidth, color=ccolor)\n",
    "        plt.fill_between(range(len(mean)), mean - sem, mean + sem, alpha=shade_alpha, color=ccolor)\n",
    "    plt.legend(fontsize=legend_fontsize)\n",
    "    plt.xticks(fontsize=tick_fontsize)\n",
    "    plt.yticks(fontsize=tick_fontsize)\n",
    "    plt.suptitle(plot_title);\n",
    "    plt.xlabel(xlabel);\n",
    "    plt.ylabel(ylabel);\n",
    "    \n",
    "\n",
    "interact(get_config,\n",
    "         plot_title=\"Performance curves\",\n",
    "         xlabel='Update steps',\n",
    "         ylabel='Mean reward (+/- sem)',\n",
    "         linewidth=(0.0, 10.0, 1.), \n",
    "         tick_fontsize=(5, 20, 1),\n",
    "         label_fontsize=(5, 20, 1),\n",
    "         suptitle_fontsize=(5, 20, 1),\n",
    "         legend_fontsize=(5, 20, 1),\n",
    "         figure_width=(1, 20, 1),\n",
    "         figure_height=(1,20, 1),\n",
    "         dpi=(50, 200, 10),\n",
    "         grid=False,\n",
    "         shade_alpha=(0.0, 1.0, 0.1),\n",
    "         colormap=mpl.pyplot.colormaps()\n",
    "        );"
   ]
  },
  {
   "cell_type": "code",
   "execution_count": null,
   "id": "547a0a1c",
   "metadata": {},
   "outputs": [],
   "source": []
  }
 ],
 "metadata": {
  "kernelspec": {
   "display_name": "Python 3",
   "language": "python",
   "name": "python3"
  },
  "language_info": {
   "codemirror_mode": {
    "name": "ipython",
    "version": 3
   },
   "file_extension": ".py",
   "mimetype": "text/x-python",
   "name": "python",
   "nbconvert_exporter": "python",
   "pygments_lexer": "ipython3",
   "version": "3.7.10"
  }
 },
 "nbformat": 4,
 "nbformat_minor": 5
}
