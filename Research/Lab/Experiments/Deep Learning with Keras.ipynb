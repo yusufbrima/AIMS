{
 "cells": [
  {
   "cell_type": "code",
   "execution_count": 3,
   "metadata": {},
   "outputs": [
    {
     "name": "stderr",
     "output_type": "stream",
     "text": [
      "Using TensorFlow backend.\n"
     ]
    }
   ],
   "source": [
    "import tensorflow as tf\n",
    "from keras.preprocessing.image import ImageDataGenerator,load_img,img_to_array\n",
    "from keras.preprocessing import image\n",
    "from sklearn.metrics import classification_report,confusion_matrix\n",
    "from keras.applications.vgg16 import VGG16, preprocess_input\n",
    "# from tensorflow.keras.applications import EfficientNetB0\n",
    "from keras.optimizers import Adam,RMSprop\n",
    "import matplotlib.pyplot as plt\n",
    "import seaborn as sns\n",
    "import numpy as np\n",
    "# import cv2\n",
    "import os\n",
    "import itertools "
   ]
  },
  {
   "cell_type": "code",
   "execution_count": null,
   "metadata": {},
   "outputs": [],
   "source": [
    "DATADIR = '/Users/yusuf/Desktop/AIMS/Research/Lab/Experiments/PetImages'\n",
    "CATIGORIES  = ['Cat','Dog']\n",
    "k =  0\n",
    "plt.figure(figsize=(10,8))\n",
    "for category in CATIGORIES:\n",
    "    path  =  os.path.join(DATADIR,category)\n",
    "    for img in os.listdir(path):\n",
    "        if(img.endswith('.jpg')):\n",
    "            img  = image.load_img(os.path.join(path,img),target_size=(200,200,3))\n",
    "            plt.imshow(img)\n",
    "            plt.show()\n",
    "            break"
   ]
  },
  {
   "cell_type": "code",
   "execution_count": null,
   "metadata": {},
   "outputs": [],
   "source": [
    "path =  '/Users/yusuf/Desktop/AIMS/Research/Lab/Experiments/PetImages/Cat/10.jpg'"
   ]
  },
  {
   "cell_type": "code",
   "execution_count": null,
   "metadata": {},
   "outputs": [],
   "source": []
  }
 ],
 "metadata": {
  "kernelspec": {
   "display_name": "Python 3",
   "language": "python",
   "name": "python3"
  },
  "language_info": {
   "codemirror_mode": {
    "name": "ipython",
    "version": 3
   },
   "file_extension": ".py",
   "mimetype": "text/x-python",
   "name": "python",
   "nbconvert_exporter": "python",
   "pygments_lexer": "ipython3",
   "version": "3.7.6"
  }
 },
 "nbformat": 4,
 "nbformat_minor": 4
}
