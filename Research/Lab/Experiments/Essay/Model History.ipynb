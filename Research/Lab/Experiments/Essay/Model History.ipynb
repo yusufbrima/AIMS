{
 "cells": [
  {
   "cell_type": "code",
   "execution_count": 1,
   "id": "152a8088",
   "metadata": {},
   "outputs": [],
   "source": [
    "\n",
    "\n",
    "# ResNet-50\n",
    "\n",
    "# Model Loss: 0.20872825384140015, Accuracy: 0.9385342597961426\n",
    "\n",
    "\n",
    "# VGG-19\n",
    "\n",
    "# Model Loss: 0.2190869301557541, Accuracy: 0.9399527311325073\n",
    "\n",
    "\n",
    "# DenseNet-121\n",
    "\n",
    "# Model Loss: 0.21872971951961517, Accuracy: 0.9323877096176147\n",
    "\n"
   ]
  },
  {
   "cell_type": "code",
   "execution_count": null,
   "id": "6183f0d2",
   "metadata": {},
   "outputs": [],
   "source": []
  }
 ],
 "metadata": {
  "kernelspec": {
   "display_name": "Python 3",
   "language": "python",
   "name": "python3"
  },
  "language_info": {
   "codemirror_mode": {
    "name": "ipython",
    "version": 3
   },
   "file_extension": ".py",
   "mimetype": "text/x-python",
   "name": "python",
   "nbconvert_exporter": "python",
   "pygments_lexer": "ipython3",
   "version": "3.9.4"
  }
 },
 "nbformat": 4,
 "nbformat_minor": 5
}
