{
 "cells": [
  {
   "cell_type": "code",
   "execution_count": 46,
   "id": "5117dc55",
   "metadata": {},
   "outputs": [],
   "source": [
    "import os\n",
    "import pandas as pd"
   ]
  },
  {
   "cell_type": "code",
   "execution_count": 33,
   "id": "6fb11a6d",
   "metadata": {},
   "outputs": [],
   "source": [
    "path = '/Users/yusuf/Desktop/AIMS/Research/Lab/test'"
   ]
  },
  {
   "cell_type": "code",
   "execution_count": 34,
   "id": "f56c4cb2",
   "metadata": {},
   "outputs": [
    {
     "data": {
      "text/plain": [
       "['a', 'hello.sh', 'c', 'b']"
      ]
     },
     "execution_count": 34,
     "metadata": {},
     "output_type": "execute_result"
    }
   ],
   "source": [
    "os.listdir(path)"
   ]
  },
  {
   "cell_type": "code",
   "execution_count": 58,
   "id": "dbdc0446",
   "metadata": {},
   "outputs": [],
   "source": [
    "path = '/Users/yusuf/Desktop/AIMS/Research/Lab/test'\n",
    "cs = {'filepath': [],'folder': []}\n",
    "for d in os.listdir(path):\n",
    "    if(os.path.isdir(os.path.join(path,d))):\n",
    "        folder =  os.path.join(path,d)\n",
    "        for f in os.listdir(folder):\n",
    "            if(os.path.isdir(os.path.join(folder,f))):\n",
    "                pass\n",
    "            else:\n",
    "                cs['folder'].append(d)\n",
    "                file =  os.path.join(folder,f)\n",
    "                cs['filepath'].append(file)\n",
    "    elif(os.path.isfile(os.path.join(path,d))):\n",
    "        file = os.path.join(path,d)\n",
    "        cs['folder'].append(None)\n",
    "        file =  os.path.join(folder,f)\n",
    "        cs['filepath'].append(file)\n",
    "df = pd.DataFrame(cs)"
   ]
  },
  {
   "cell_type": "code",
   "execution_count": 59,
   "id": "443eb8ab",
   "metadata": {},
   "outputs": [
    {
     "data": {
      "text/html": [
       "<div>\n",
       "<style scoped>\n",
       "    .dataframe tbody tr th:only-of-type {\n",
       "        vertical-align: middle;\n",
       "    }\n",
       "\n",
       "    .dataframe tbody tr th {\n",
       "        vertical-align: top;\n",
       "    }\n",
       "\n",
       "    .dataframe thead th {\n",
       "        text-align: right;\n",
       "    }\n",
       "</style>\n",
       "<table border=\"1\" class=\"dataframe\">\n",
       "  <thead>\n",
       "    <tr style=\"text-align: right;\">\n",
       "      <th></th>\n",
       "      <th>filepath</th>\n",
       "      <th>folder</th>\n",
       "    </tr>\n",
       "  </thead>\n",
       "  <tbody>\n",
       "    <tr>\n",
       "      <th>0</th>\n",
       "      <td>/Users/yusuf/Desktop/AIMS/Research/Lab/test/a/...</td>\n",
       "      <td>a</td>\n",
       "    </tr>\n",
       "    <tr>\n",
       "      <th>1</th>\n",
       "      <td>/Users/yusuf/Desktop/AIMS/Research/Lab/test/a/...</td>\n",
       "      <td>None</td>\n",
       "    </tr>\n",
       "    <tr>\n",
       "      <th>2</th>\n",
       "      <td>/Users/yusuf/Desktop/AIMS/Research/Lab/test/c/...</td>\n",
       "      <td>c</td>\n",
       "    </tr>\n",
       "    <tr>\n",
       "      <th>3</th>\n",
       "      <td>/Users/yusuf/Desktop/AIMS/Research/Lab/test/c/...</td>\n",
       "      <td>c</td>\n",
       "    </tr>\n",
       "    <tr>\n",
       "      <th>4</th>\n",
       "      <td>/Users/yusuf/Desktop/AIMS/Research/Lab/test/b/...</td>\n",
       "      <td>b</td>\n",
       "    </tr>\n",
       "  </tbody>\n",
       "</table>\n",
       "</div>"
      ],
      "text/plain": [
       "                                            filepath folder\n",
       "0  /Users/yusuf/Desktop/AIMS/Research/Lab/test/a/...      a\n",
       "1  /Users/yusuf/Desktop/AIMS/Research/Lab/test/a/...   None\n",
       "2  /Users/yusuf/Desktop/AIMS/Research/Lab/test/c/...      c\n",
       "3  /Users/yusuf/Desktop/AIMS/Research/Lab/test/c/...      c\n",
       "4  /Users/yusuf/Desktop/AIMS/Research/Lab/test/b/...      b"
      ]
     },
     "execution_count": 59,
     "metadata": {},
     "output_type": "execute_result"
    }
   ],
   "source": [
    "df"
   ]
  },
  {
   "cell_type": "code",
   "execution_count": null,
   "id": "d808eba2",
   "metadata": {},
   "outputs": [],
   "source": []
  }
 ],
 "metadata": {
  "kernelspec": {
   "display_name": "Python 3",
   "language": "python",
   "name": "python3"
  },
  "language_info": {
   "codemirror_mode": {
    "name": "ipython",
    "version": 3
   },
   "file_extension": ".py",
   "mimetype": "text/x-python",
   "name": "python",
   "nbconvert_exporter": "python",
   "pygments_lexer": "ipython3",
   "version": "3.9.4"
  }
 },
 "nbformat": 4,
 "nbformat_minor": 5
}
