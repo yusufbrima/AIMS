{
 "cells": [
  {
   "cell_type": "code",
   "execution_count": 575,
   "id": "33ff5625",
   "metadata": {},
   "outputs": [
    {
     "name": "stdout",
     "output_type": "stream",
     "text": [
      "Populating the interactive namespace from numpy and matplotlib\n"
     ]
    }
   ],
   "source": [
    "%pylab inline\n",
    "import numdifftools as nd\n",
    "\n",
    "import torch"
   ]
  },
  {
   "cell_type": "markdown",
   "id": "ac1de303",
   "metadata": {},
   "source": [
    "### A simple two layer nn"
   ]
  },
  {
   "cell_type": "code",
   "execution_count": 76,
   "id": "96cb3207",
   "metadata": {},
   "outputs": [],
   "source": [
    "def nn(x):\n",
    "    r,c =  x.shape\n",
    "    weights = np.random.randn(c,4)\n",
    "    res = np.dot(data,weights)\n",
    "    weight2 =  np.random.randn(4,1)\n",
    "    res2 =  np.dot(res,weight2)\n",
    "    return res2.reshape(-1)\n"
   ]
  },
  {
   "cell_type": "markdown",
   "id": "e3192ce2",
   "metadata": {},
   "source": [
    "\\begin{align}\n",
    "\\mathrm{MSE}=\\frac{1}{n} \\sum_{i=1}^{n}\\left(y_{i}-\\tilde{y}_{i}\\right)^{2}\n",
    "\\end{align}"
   ]
  },
  {
   "cell_type": "code",
   "execution_count": 550,
   "id": "8550ac1c",
   "metadata": {},
   "outputs": [],
   "source": [
    "def mse(y,pred):\n",
    "    return np.sum((y - pred)**2)/y.size"
   ]
  },
  {
   "cell_type": "markdown",
   "id": "96299073",
   "metadata": {},
   "source": [
    "\\begin{align}\n",
    "\\mathrm{RMSE}=\\sqrt{\\frac{1}{n} \\sum_{i=1}^{n}\\left(y_{i}-\\tilde{y}_{i}\\right)^{2}}\n",
    "\\end{align}"
   ]
  },
  {
   "cell_type": "code",
   "execution_count": 551,
   "id": "7eb4c0fc",
   "metadata": {},
   "outputs": [],
   "source": [
    "def rmse(y,pred):\n",
    "    return np.sqrt(np.sum((y - pred)**2)/y.size)"
   ]
  },
  {
   "cell_type": "code",
   "execution_count": 79,
   "id": "261c98c3",
   "metadata": {},
   "outputs": [],
   "source": [
    "data  =  np.random.randn(10,20)\n",
    "y = np.random.randn(10,)\n",
    "pred  = nn(data)"
   ]
  },
  {
   "cell_type": "code",
   "execution_count": 80,
   "id": "4012c5e0",
   "metadata": {},
   "outputs": [
    {
     "data": {
      "text/plain": [
       "76.31538469582368"
      ]
     },
     "execution_count": 80,
     "metadata": {},
     "output_type": "execute_result"
    }
   ],
   "source": [
    "mse(y,pred)"
   ]
  },
  {
   "cell_type": "code",
   "execution_count": 81,
   "id": "984ca1d7",
   "metadata": {},
   "outputs": [
    {
     "data": {
      "text/plain": [
       "8.73586771281615"
      ]
     },
     "execution_count": 81,
     "metadata": {},
     "output_type": "execute_result"
    }
   ],
   "source": [
    "rmse(y,pred)"
   ]
  },
  {
   "cell_type": "code",
   "execution_count": 82,
   "id": "5c1a9147",
   "metadata": {},
   "outputs": [
    {
     "data": {
      "image/png": "[encoded data removed]",
      "text/plain": [
       "<Figure size 432x288 with 1 Axes>"
      ]
     },
     "metadata": {
      "needs_background": "light"
     },
     "output_type": "display_data"
    }
   ],
   "source": [
    "plt.plot(pred,label=r\"$\\hat{y}$\")\n",
    "plt.plot(y,label=\"y\")\n",
    "plt.legend()\n",
    "plt.show()"
   ]
  },
  {
   "cell_type": "code",
   "execution_count": 132,
   "id": "906d2d42",
   "metadata": {},
   "outputs": [],
   "source": [
    "x  = np.array([3, 5])\n",
    "ww = np.array([2, 7])\n",
    "w  = np.array([[2,4],[4,-5]])"
   ]
  },
  {
   "cell_type": "code",
   "execution_count": 133,
   "id": "7feef426",
   "metadata": {},
   "outputs": [
    {
     "data": {
      "text/plain": [
       "array([[ 2,  4],\n",
       "       [ 4, -5]])"
      ]
     },
     "execution_count": 133,
     "metadata": {},
     "output_type": "execute_result"
    }
   ],
   "source": [
    "w"
   ]
  },
  {
   "cell_type": "code",
   "execution_count": 134,
   "id": "31b8bc12",
   "metadata": {},
   "outputs": [
    {
     "data": {
      "text/plain": [
       "-39"
      ]
     },
     "execution_count": 134,
     "metadata": {},
     "output_type": "execute_result"
    }
   ],
   "source": [
    "ww@np.dot(x,w)"
   ]
  },
  {
   "cell_type": "code",
   "execution_count": 135,
   "id": "a994829b",
   "metadata": {},
   "outputs": [],
   "source": [
    "x  = np.array([2, 3])\n"
   ]
  },
  {
   "cell_type": "code",
   "execution_count": 136,
   "id": "a8c4fd2e",
   "metadata": {},
   "outputs": [
    {
     "data": {
      "text/plain": [
       "-17"
      ]
     },
     "execution_count": 136,
     "metadata": {},
     "output_type": "execute_result"
    }
   ],
   "source": [
    "ww@np.dot(x,w)"
   ]
  },
  {
   "cell_type": "code",
   "execution_count": 140,
   "id": "c9011f7f",
   "metadata": {},
   "outputs": [],
   "source": [
    "def nn(x):\n",
    "    w  = np.array([[1,-1],[1,1]])\n",
    "    ww = np.array([2, -1])\n",
    "    x =  np.tanh(w@x)\n",
    "    x  =  ww@x\n",
    "    return x\n",
    "def relu(x):\n",
    "    return np.where(x >= 0 ,x,0)"
   ]
  },
  {
   "cell_type": "code",
   "execution_count": 138,
   "id": "39f950e1",
   "metadata": {},
   "outputs": [
    {
     "data": {
      "text/plain": [
       "-2.5230975161741247"
      ]
     },
     "execution_count": 138,
     "metadata": {},
     "output_type": "execute_result"
    }
   ],
   "source": [
    "nn(x)"
   ]
  },
  {
   "cell_type": "code",
   "execution_count": 149,
   "id": "ac08001a",
   "metadata": {},
   "outputs": [
    {
     "data": {
      "text/plain": [
       "<matplotlib.legend.Legend at 0x1241fc130>"
      ]
     },
     "execution_count": 149,
     "metadata": {},
     "output_type": "execute_result"
    },
    {
     "data": {
      "image/png": "[encoded data removed]",
      "text/plain": [
       "<Figure size 432x288 with 1 Axes>"
      ]
     },
     "metadata": {
      "needs_background": "light"
     },
     "output_type": "display_data"
    }
   ],
   "source": [
    "x  =  np.linspace(-1,1,100)\n",
    "\n",
    "plt.plot(x,np.tanh(x),label=\"tanh\")\n",
    "plt.plot(x,relu(x),label=\"ReLu\")\n",
    "plt.legend()"
   ]
  },
  {
   "cell_type": "code",
   "execution_count": 168,
   "id": "4bdec0bd",
   "metadata": {},
   "outputs": [],
   "source": [
    "x  = np.array([3, 5])\n",
    "\n",
    "w1  = np.array([[2,4],[4,-5]])\n",
    "w2  = np.array([[-1,1],[2,2]])\n",
    "w3 = np.array([-3, 7])"
   ]
  },
  {
   "cell_type": "code",
   "execution_count": 169,
   "id": "589b0b67",
   "metadata": {},
   "outputs": [],
   "source": [
    "r1 = relu(w1@x)\n",
    "r2  = relu(w2@r1)\n",
    "r3  =  relu(w3@r2)"
   ]
  },
  {
   "cell_type": "code",
   "execution_count": 170,
   "id": "d8256071",
   "metadata": {},
   "outputs": [
    {
     "data": {
      "text/plain": [
       "array(364)"
      ]
     },
     "execution_count": 170,
     "metadata": {},
     "output_type": "execute_result"
    }
   ],
   "source": [
    "r3"
   ]
  },
  {
   "cell_type": "code",
   "execution_count": 171,
   "id": "06bb9c73",
   "metadata": {},
   "outputs": [],
   "source": [
    "x  = np.array([1, 1])\n",
    "\n",
    "w1  = np.array([[2,4],[4,-5]])\n",
    "w2  = np.array([[0,1],[1,1]])\n",
    "w3 = np.array([5, 1])"
   ]
  },
  {
   "cell_type": "code",
   "execution_count": 182,
   "id": "a9be8c6c",
   "metadata": {},
   "outputs": [],
   "source": [
    "r1 = w1@x\n",
    "r2  = w2@r1\n",
    "r3  =  w3@r2"
   ]
  },
  {
   "cell_type": "code",
   "execution_count": 177,
   "id": "8e850115",
   "metadata": {},
   "outputs": [
    {
     "data": {
      "text/plain": [
       "0"
      ]
     },
     "execution_count": 177,
     "metadata": {},
     "output_type": "execute_result"
    }
   ],
   "source": [
    "r3"
   ]
  },
  {
   "cell_type": "code",
   "execution_count": 185,
   "id": "6181e1a9",
   "metadata": {},
   "outputs": [],
   "source": [
    "def resnet(x):\n",
    "    w1  = np.array([[2,4],[4,-5]])\n",
    "    w2  = np.array([[0,1],[1,1]])\n",
    "    w3 = np.array([5, 1])\n",
    "    r1 = w1@x + x\n",
    "    r2  = w2@r1 + r1\n",
    "    r3  =  w3@r2\n",
    "    return r3"
   ]
  },
  {
   "cell_type": "code",
   "execution_count": 210,
   "id": "441e4fba",
   "metadata": {},
   "outputs": [],
   "source": [
    "def basenet(x,act):\n",
    "    c = x.shape[0]\n",
    "    weights = np.random.randn(c,c)\n",
    "    res = act(np.dot(x,weights))\n",
    "    weight2 =  np.random.randn(c,1)\n",
    "    res2 =  act(np.dot(res,weight2))\n",
    "    return res2\n",
    "def i(x):\n",
    "    return x"
   ]
  },
  {
   "cell_type": "code",
   "execution_count": 211,
   "id": "b203862c",
   "metadata": {},
   "outputs": [
    {
     "data": {
      "text/plain": [
       "array([0.])"
      ]
     },
     "execution_count": 211,
     "metadata": {},
     "output_type": "execute_result"
    }
   ],
   "source": [
    "basenet(x,relu)"
   ]
  },
  {
   "cell_type": "code",
   "execution_count": 230,
   "id": "7b2e3af4",
   "metadata": {},
   "outputs": [],
   "source": [
    "x =  np.array([3,2])\n",
    "w1  = np.array([[2,1],[0,0]])\n",
    "w2 = np.array([2.01, 2])\n",
    "y = 5\n",
    "\n",
    "yhat =  relu(w2@relu(w1@x))"
   ]
  },
  {
   "cell_type": "code",
   "execution_count": 231,
   "id": "5ef52c05",
   "metadata": {},
   "outputs": [
    {
     "data": {
      "text/plain": [
       "11.079999999999998"
      ]
     },
     "execution_count": 231,
     "metadata": {},
     "output_type": "execute_result"
    }
   ],
   "source": [
    "yhat - y"
   ]
  },
  {
   "cell_type": "markdown",
   "id": "7219de7b",
   "metadata": {},
   "source": [
    "# calculating slopes"
   ]
  },
  {
   "cell_type": "code",
   "execution_count": 347,
   "id": "2cbf1bb7",
   "metadata": {},
   "outputs": [],
   "source": [
    "w  = np.array([1,2])\n",
    "x  = np.array([3,4])\n",
    "lr  = 0.01\n",
    "epoch  = 100\n",
    "y = np.array([6])\n",
    "epsilon = 0.001"
   ]
  },
  {
   "cell_type": "code",
   "execution_count": 348,
   "id": "fc545371",
   "metadata": {},
   "outputs": [],
   "source": [
    "\n",
    "err  =  yhat - y\n",
    "grad =  2*err"
   ]
  },
  {
   "cell_type": "code",
   "execution_count": 349,
   "id": "74dbb577",
   "metadata": {},
   "outputs": [],
   "source": [
    "def loss(y,yhat):\n",
    "    return np.sqrt((yhat - y)**2/y.size)\n",
    "\n",
    "def train(x,y,epoch=50):\n",
    "    error  = []\n",
    "    w = np.zeros((2,))\n",
    "    for e in range(epoch):\n",
    "        yhat =  relu(w@x)\n",
    "        w  =  w -  lr * nd.Derivative(f)(yhat,y)\n",
    "        err = f(y,yhat)\n",
    "        error.append(err)\n",
    "    err = np.array(error)\n",
    "    return w,err"
   ]
  },
  {
   "cell_type": "code",
   "execution_count": 350,
   "id": "4836ee4f",
   "metadata": {},
   "outputs": [],
   "source": [
    "w,err =  train(x,y,epoch)"
   ]
  },
  {
   "cell_type": "code",
   "execution_count": 360,
   "id": "d2175b3e",
   "metadata": {},
   "outputs": [
    {
     "data": {
      "text/plain": [
       "[<matplotlib.lines.Line2D at 0x12d7df220>]"
      ]
     },
     "execution_count": 360,
     "metadata": {},
     "output_type": "execute_result"
    },
    {
     "data": {
      "image/png": "[encoded data removed]",
      "text/plain": [
       "<Figure size 432x288 with 1 Axes>"
      ]
     },
     "metadata": {
      "needs_background": "light"
     },
     "output_type": "display_data"
    }
   ],
   "source": [
    "plt.plot(np.arange(1,len(err)+1),err)"
   ]
  },
  {
   "cell_type": "code",
   "execution_count": 361,
   "id": "948bf563",
   "metadata": {},
   "outputs": [
    {
     "data": {
      "text/plain": [
       "5.999998309573179"
      ]
     },
     "execution_count": 361,
     "metadata": {},
     "output_type": "execute_result"
    }
   ],
   "source": [
    "w@x"
   ]
  },
  {
   "cell_type": "markdown",
   "id": "aefbbb61",
   "metadata": {},
   "source": [
    "## Introduction to backpropagation\n",
    "\n"
   ]
  },
  {
   "cell_type": "code",
   "execution_count": 410,
   "id": "f56e8156",
   "metadata": {},
   "outputs": [],
   "source": [
    "x =  np.array([0.5,1])\n",
    "w1  = np.array([[2,-2],[4,-1]])\n",
    "w2  = np.array([[0,1],[2,3]])\n",
    "w3 = np.array([1, 2])\n",
    "y  = 4"
   ]
  },
  {
   "cell_type": "code",
   "execution_count": 411,
   "id": "cffc79bb",
   "metadata": {},
   "outputs": [],
   "source": [
    "yhat = relu(w3@relu(w2@relu(w1@x)))"
   ]
  },
  {
   "cell_type": "code",
   "execution_count": 412,
   "id": "0f5454ea",
   "metadata": {},
   "outputs": [
    {
     "data": {
      "text/plain": [
       "array(7.)"
      ]
     },
     "execution_count": 412,
     "metadata": {},
     "output_type": "execute_result"
    }
   ],
   "source": [
    "yhat"
   ]
  },
  {
   "cell_type": "code",
   "execution_count": 414,
   "id": "cd967d38",
   "metadata": {},
   "outputs": [],
   "source": [
    "w1\n",
    "yy = np.zeros(2)"
   ]
  },
  {
   "cell_type": "code",
   "execution_count": 437,
   "id": "8b69f32c",
   "metadata": {},
   "outputs": [],
   "source": [
    "for i in range(len(yy)):\n",
    "    temp = 0\n",
    "    for k in range(w1.shape[0]):\n",
    "        temp = w1[i,k] * x[i]\n",
    "    yy[i] =  temp"
   ]
  },
  {
   "cell_type": "code",
   "execution_count": 438,
   "id": "cf1fab91",
   "metadata": {},
   "outputs": [
    {
     "data": {
      "text/plain": [
       "array([-1., -1.])"
      ]
     },
     "execution_count": 438,
     "metadata": {},
     "output_type": "execute_result"
    }
   ],
   "source": [
    "yy"
   ]
  },
  {
   "cell_type": "markdown",
   "id": "8cc61d04",
   "metadata": {},
   "source": [
    "# Cross-entropy loss\n",
    "\\begin{align}\n",
    "\\mathrm{CE}= - \\sum_{i=0}^{n} y_{i}  \\log{\\tilde{y}_{i}}\n",
    "\\end{align}"
   ]
  },
  {
   "cell_type": "code",
   "execution_count": 481,
   "id": "724ebdb3",
   "metadata": {},
   "outputs": [],
   "source": [
    "def cross_entropy(y,yhat):\n",
    "    return -np.sum(y * -np.log(y_hat))"
   ]
  },
  {
   "cell_type": "markdown",
   "id": "2bf96291",
   "metadata": {},
   "source": [
    "#  Softmax\n",
    "\\begin{align}\n",
    "\\mathrm{SoftMax(x)_i}= \\frac{e^{s_i}}{\\sum_{j=0}^{n} e^{s_j}}\n",
    "\\end{align}"
   ]
  },
  {
   "cell_type": "code",
   "execution_count": 453,
   "id": "1629a882",
   "metadata": {},
   "outputs": [],
   "source": [
    "def softmax(x):\n",
    "    return x/x.sum()"
   ]
  },
  {
   "cell_type": "code",
   "execution_count": 648,
   "id": "7c112a19",
   "metadata": {},
   "outputs": [],
   "source": [
    "x =  np.random.randint(13,100,5)"
   ]
  },
  {
   "cell_type": "code",
   "execution_count": 649,
   "id": "0316f976",
   "metadata": {},
   "outputs": [],
   "source": [
    "y_hat = softmax(x)\n",
    "y =  np.zeros(5)\n",
    "y[0] = 1"
   ]
  },
  {
   "cell_type": "code",
   "execution_count": 650,
   "id": "abc40265",
   "metadata": {},
   "outputs": [
    {
     "data": {
      "text/plain": [
       "-1.3574739225843988"
      ]
     },
     "execution_count": 650,
     "metadata": {},
     "output_type": "execute_result"
    }
   ],
   "source": [
    "cross_entropy(y,y_hat)"
   ]
  },
  {
   "cell_type": "code",
   "execution_count": 480,
   "id": "2c333a86",
   "metadata": {},
   "outputs": [
    {
     "data": {
      "text/plain": [
       "array([0.24203822, 0.17197452, 0.28980892, 0.23566879, 0.06050955])"
      ]
     },
     "execution_count": 480,
     "metadata": {},
     "output_type": "execute_result"
    }
   ],
   "source": [
    "def nn(x):\n",
    "    r,c =  x.shape\n",
    "    weights = np.random.randn(c,4)\n",
    "    res = np.dot(data,weights)\n",
    "    weight2 =  np.random.randn(4,1)\n",
    "    res2 =  np.dot(res,weight2)\n",
    "    return res2.reshape(-1)"
   ]
  },
  {
   "cell_type": "code",
   "execution_count": 524,
   "id": "6c0049d7",
   "metadata": {},
   "outputs": [],
   "source": [
    "def cal_gen(N):\n",
    "    Nr =  np.int(N*0.20)\n",
    "    N =  N -  Nr\n",
    "    x_train = []\n",
    "    y_train = []\n",
    "#     np.random.normal(0,0.64,10)  <-- to generate from a normal distribution with mu=0,sigma=0.64\n",
    "    for _ in range(Nr):\n",
    "    #     for children with disease\n",
    "        x_train.append(np.random.randint(13,63,10))\n",
    "        y_train.append(1)\n",
    "        #     for children with disease\n",
    "        x_train.append(np.random.randint(64,100,10))\n",
    "        y_train.append(0)\n",
    "\n",
    "\n",
    "    for _ in range(N):\n",
    "    #     for children with disease\n",
    "        x_train.append(np.random.randint(13,63,10))\n",
    "        y_train.append(0)\n",
    "        #     for children with disease\n",
    "        x_train.append(np.random.randint(64,100,10))\n",
    "        y_train.append(1)\n",
    "    return np.array(x_train),np.array(y_train)\n",
    "\n",
    "def reg_gen(N):\n",
    "    Nr =  np.int(N*0.20)\n",
    "    N =  N -  Nr\n",
    "    x_train = []\n",
    "    y_train = []\n",
    "    for _ in range(Nr):\n",
    "    #     for children with disease\n",
    "        x_train.append(np.random.randint(13,63,10))\n",
    "        y_train.append(np.random.randint(1,54,1))\n",
    "        #     for children with disease\n",
    "        x_train.append(np.random.randint(64,100,10))\n",
    "        y_train.append(np.random.randint(55,100,1))\n",
    "\n",
    "\n",
    "    for _ in range(N):\n",
    "    #     for children with disease\n",
    "        x_train.append(np.random.randint(13,63,10))\n",
    "        y_train.append(np.random.randint(55,100,1))\n",
    "        #     for children with disease\n",
    "        x_train.append(np.random.randint(64,100,10))\n",
    "        y_train.append(np.random.randint(1,54,1))\n",
    "    return np.array(x_train),np.array(y_train)\n",
    "\n",
    "\n",
    "def data_faker(N=500,r=True):\n",
    "    if(r):\n",
    "        x_train,y_train = reg_gen(N)\n",
    "        x_test,y_test = reg_gen(np.int(N*0.20))\n",
    "        return (x_train,y_train,x_test,y_test)\n",
    "    else:\n",
    "        x_train,y_train = cal_gen(N)\n",
    "        x_test,y_test = reg_gen(np.int(N*0.20))\n",
    "        return (x_train,y_train,x_test,y_test)"
   ]
  },
  {
   "cell_type": "code",
   "execution_count": 525,
   "id": "bd8372fa",
   "metadata": {},
   "outputs": [],
   "source": [
    "x_train,y_train,x_test,y_test = data_faker(500)"
   ]
  },
  {
   "cell_type": "code",
   "execution_count": 494,
   "id": "99371d36",
   "metadata": {},
   "outputs": [],
   "source": [
    "x_train = []\n",
    "y_train = []\n",
    "\n",
    "\n",
    "for _ in range(50):\n",
    "#     for children with disease\n",
    "    x_train.append(np.random.randint(13,63,10))\n",
    "    y_train.append(1)\n",
    "    #     for children with disease\n",
    "    x_train.append(np.random.randint(64,100,10))\n",
    "    y_train.append(0)\n",
    "    \n",
    "\n",
    "for _ in range(100):\n",
    "#     for children with disease\n",
    "    x_train.append(np.random.randint(13,63,10))\n",
    "    y_train.append(0)\n",
    "    #     for children with disease\n",
    "    x_train.append(np.random.randint(64,100,10))\n",
    "    y_train.append(1)"
   ]
  },
  {
   "cell_type": "code",
   "execution_count": 497,
   "id": "b07429df",
   "metadata": {},
   "outputs": [],
   "source": [
    "x_train = np.array(x_train)\n",
    "y_train = np.array(y_train)"
   ]
  },
  {
   "cell_type": "code",
   "execution_count": 496,
   "id": "2ac662f8",
   "metadata": {},
   "outputs": [
    {
     "data": {
      "text/plain": [
       "(300, 10)"
      ]
     },
     "execution_count": 496,
     "metadata": {},
     "output_type": "execute_result"
    }
   ],
   "source": []
  },
  {
   "cell_type": "code",
   "execution_count": 531,
   "id": "4e47a613",
   "metadata": {},
   "outputs": [
    {
     "data": {
      "text/plain": [
       "(10,)"
      ]
     },
     "execution_count": 531,
     "metadata": {},
     "output_type": "execute_result"
    }
   ],
   "source": [
    "x_train[0].shape"
   ]
  },
  {
   "cell_type": "code",
   "execution_count": 556,
   "id": "e64607eb",
   "metadata": {},
   "outputs": [],
   "source": [
    "def relu(x):\n",
    "    return np.where(x>0 ,x, 0)"
   ]
  },
  {
   "cell_type": "code",
   "execution_count": 558,
   "id": "a83fe021",
   "metadata": {},
   "outputs": [],
   "source": [
    "def nn(x):\n",
    "    w1 = np.random.normal(0,1,(10,16))\n",
    "    w2 = np.random.normal(0,1,(16,32))\n",
    "    w3  = np.random.normal(0,1,(32,1))\n",
    "    r = relu(x@w1)\n",
    "    r2  =  relu(r@w2)\n",
    "    r3  =  r2@w3\n",
    "    return r3"
   ]
  },
  {
   "cell_type": "code",
   "execution_count": 616,
   "id": "b902be06",
   "metadata": {},
   "outputs": [],
   "source": [
    "def mse(y,pred):\n",
    "    return np.sum((y - pred)**2)/len(y)\n",
    "\n",
    "def f(y,ypred):\n",
    "    return np.sum((y - ypred)**2)/len(y)\n",
    "\n",
    "def train(x,y,f,epoch=50):\n",
    "    error  = []\n",
    "    w1 = np.random.normal(0,1,(10,16))\n",
    "    w2 = np.random.normal(0,1,(16,32))\n",
    "    w3  = np.random.normal(0,1,(32,1))\n",
    "    w = []\n",
    "    for e in range(epoch):\n",
    "        for i in range(len(y)):\n",
    "                    r1  = x[i]@w1\n",
    "                    r2 = r1@w2\n",
    "                    r3  =  r2@w3\n",
    "                    w1  =  w1 -  lr * nd.Derivative(f)(r3,y[i])\n",
    "                    w2  =  w2 -  lr * nd.Derivative(f)(r3,y[i])\n",
    "                    w3  =  w3 -  lr * nd.Derivative(f)(r3,y[i])\n",
    "        err = f(y,yhat)\n",
    "        error.append(err)\n",
    "    err = np.array(error)\n",
    "    return w1,w2,w3,err"
   ]
  },
  {
   "cell_type": "code",
   "execution_count": 617,
   "id": "02481251",
   "metadata": {},
   "outputs": [],
   "source": [
    "w1,w2,w3,err = train(x_train,y_train,f,epoch=50)"
   ]
  },
  {
   "cell_type": "code",
   "execution_count": 621,
   "id": "551b2b9d",
   "metadata": {},
   "outputs": [],
   "source": [
    "r1  = x_test@w1\n",
    "r2 = r1@w2\n",
    "yhat  =  r2@w3\n"
   ]
  },
  {
   "cell_type": "code",
   "execution_count": 642,
   "id": "1a8ec896",
   "metadata": {},
   "outputs": [],
   "source": [
    "er = f(y_test,yhat)"
   ]
  },
  {
   "cell_type": "code",
   "execution_count": 638,
   "id": "5af8868b",
   "metadata": {},
   "outputs": [
    {
     "data": {
      "text/plain": [
       "[<matplotlib.lines.Line2D at 0x140ce8370>]"
      ]
     },
     "execution_count": 638,
     "metadata": {},
     "output_type": "execute_result"
    },
    {
     "data": {
      "image/png": "[encoded data removed]",
      "text/plain": [
       "<Figure size 432x288 with 1 Axes>"
      ]
     },
     "metadata": {
      "needs_background": "light"
     },
     "output_type": "display_data"
    }
   ],
   "source": [
    "t  =  np.arange(1,201,1)\n",
    "plt.plot(t[::5],yhat[::5],label=\"y\")\n",
    "\n",
    "plt.show()"
   ]
  },
  {
   "cell_type": "code",
   "execution_count": 637,
   "id": "ecb3a1f4",
   "metadata": {},
   "outputs": [
    {
     "data": {
      "text/plain": [
       "[<matplotlib.lines.Line2D at 0x140d9ae20>]"
      ]
     },
     "execution_count": 637,
     "metadata": {},
     "output_type": "execute_result"
    },
    {
     "data": {
      "image/png": "[encoded data removed]",
      "text/plain": [
       "<Figure size 432x288 with 1 Axes>"
      ]
     },
     "metadata": {
      "needs_background": "light"
     },
     "output_type": "display_data"
    }
   ],
   "source": [
    "plt.plot(t[::5],y_test[::5])"
   ]
  },
  {
   "cell_type": "code",
   "execution_count": 704,
   "id": "3e5dbe7c",
   "metadata": {},
   "outputs": [
    {
     "data": {
      "image/png": "[encoded data removed]",
      "text/plain": [
       "<Figure size 432x288 with 1 Axes>"
      ]
     },
     "metadata": {
      "needs_background": "light"
     },
     "output_type": "display_data"
    }
   ],
   "source": [
    "fig= plt.figure()\n",
    "\n",
    "axes= fig.add_axes([0,0,1,1])\n",
    "l_bound  =  yhat -  er\n",
    "u_bound  =  yhat + er\n",
    "axes.plot(t,yhat, color='blue', alpha=0.5,linewidth=2.5,label=\"Sin(x) Wave+Noise\")\n",
    "# axes.fill_between(t, l_bound, u_bound,color=\"green\",alpha=0.1)\n",
    "plt.legend()\n",
    "plt.show()"
   ]
  },
  {
   "cell_type": "code",
   "execution_count": 698,
   "id": "9ec165a5",
   "metadata": {},
   "outputs": [],
   "source": [
    "x  =  np.linspace(-100,100,100)"
   ]
  }
 ],
 "metadata": {
  "kernelspec": {
   "display_name": "Python 3",
   "language": "python",
   "name": "python3"
  },
  "language_info": {
   "codemirror_mode": {
    "name": "ipython",
    "version": 3
   },
   "file_extension": ".py",
   "mimetype": "text/x-python",
   "name": "python",
   "nbconvert_exporter": "python",
   "pygments_lexer": "ipython3",
   "version": "3.9.4"
  }
 },
 "nbformat": 4,
 "nbformat_minor": 5
}
