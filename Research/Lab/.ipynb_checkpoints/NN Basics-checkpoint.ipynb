{
 "cells": [
  {
   "cell_type": "code",
   "execution_count": 2,
   "id": "22833cca",
   "metadata": {},
   "outputs": [
    {
     "name": "stdout",
     "output_type": "stream",
     "text": [
      "Populating the interactive namespace from numpy and matplotlib\n"
     ]
    }
   ],
   "source": [
    "%pylab inline"
   ]
  },
  {
   "cell_type": "markdown",
   "id": "c02cb89e",
   "metadata": {},
   "source": [
    "### A simple two layer nn"
   ]
  },
  {
   "cell_type": "code",
   "execution_count": 76,
   "id": "2513a267",
   "metadata": {},
   "outputs": [],
   "source": [
    "def nn(x):\n",
    "    r,c =  x.shape\n",
    "    weights = np.random.randn(c,4)\n",
    "    res = np.dot(data,weights)\n",
    "    weight2 =  np.random.randn(4,1)\n",
    "    res2 =  np.dot(res,weight2)\n",
    "    return res2.reshape(-1)\n"
   ]
  },
  {
   "cell_type": "markdown",
   "id": "b8b618cc",
   "metadata": {},
   "source": [
    "\\begin{align}\n",
    "\\mathrm{MSE}=\\frac{1}{n} \\sum_{i=1}^{n}\\left(y_{i}-\\tilde{y}_{i}\\right)^{2}\n",
    "\\end{align}"
   ]
  },
  {
   "cell_type": "code",
   "execution_count": 77,
   "id": "6af13cf1",
   "metadata": {},
   "outputs": [],
   "source": [
    "def mse(y,pred):\n",
    "    return np.sum((y - pred)**2)/len(y)"
   ]
  },
  {
   "cell_type": "markdown",
   "id": "c20f52eb",
   "metadata": {},
   "source": [
    "\\begin{align}\n",
    "\\mathrm{RMSE}=\\sqrt{\\frac{1}{n} \\sum_{i=1}^{n}\\left(y_{i}-\\tilde{y}_{i}\\right)^{2}}\n",
    "\\end{align}"
   ]
  },
  {
   "cell_type": "code",
   "execution_count": 78,
   "id": "a28197c5",
   "metadata": {},
   "outputs": [],
   "source": [
    "def rmse(y,pred):\n",
    "    return np.sqrt(np.sum((y - pred)**2)/len(y))"
   ]
  },
  {
   "cell_type": "code",
   "execution_count": 79,
   "id": "d43ce6b4",
   "metadata": {},
   "outputs": [],
   "source": [
    "data  =  np.random.randn(10,20)\n",
    "y = np.random.randn(10,)\n",
    "pred  = nn(data)"
   ]
  },
  {
   "cell_type": "code",
   "execution_count": 80,
   "id": "0d567b81",
   "metadata": {},
   "outputs": [
    {
     "data": {
      "text/plain": [
       "76.31538469582368"
      ]
     },
     "execution_count": 80,
     "metadata": {},
     "output_type": "execute_result"
    }
   ],
   "source": [
    "mse(y,pred)"
   ]
  },
  {
   "cell_type": "code",
   "execution_count": 81,
   "id": "bab5ba42",
   "metadata": {},
   "outputs": [
    {
     "data": {
      "text/plain": [
       "8.73586771281615"
      ]
     },
     "execution_count": 81,
     "metadata": {},
     "output_type": "execute_result"
    }
   ],
   "source": [
    "rmse(y,pred)"
   ]
  },
  {
   "cell_type": "code",
   "execution_count": 82,
   "id": "64d14494",
   "metadata": {},
   "outputs": [
    {
     "data": {
      "image/png": "[encoded data removed]",
      "text/plain": [
       "<Figure size 432x288 with 1 Axes>"
      ]
     },
     "metadata": {
      "needs_background": "light"
     },
     "output_type": "display_data"
    }
   ],
   "source": [
    "plt.plot(pred,label=r\"$\\hat{y}$\")\n",
    "plt.plot(y,label=\"y\")\n",
    "plt.legend()\n",
    "plt.show()"
   ]
  },
  {
   "cell_type": "code",
   "execution_count": null,
   "id": "28c41295",
   "metadata": {},
   "outputs": [],
   "source": []
  }
 ],
 "metadata": {
  "kernelspec": {
   "display_name": "Python 3",
   "language": "python",
   "name": "python3"
  },
  "language_info": {
   "codemirror_mode": {
    "name": "ipython",
    "version": 3
   },
   "file_extension": ".py",
   "mimetype": "text/x-python",
   "name": "python",
   "nbconvert_exporter": "python",
   "pygments_lexer": "ipython3",
   "version": "3.9.4"
  }
 },
 "nbformat": 4,
 "nbformat_minor": 5
}
